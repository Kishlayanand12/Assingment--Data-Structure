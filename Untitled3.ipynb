{
 "cells": [
  {
   "cell_type": "markdown",
   "id": "06e70876-6003-4b7b-8599-d22c928def59",
   "metadata": {},
   "source": [
    "1. Discuss string slicing and provide examples.\n",
    "   >> String slicing is a powerful feature in Python that allows you to extract a portion of a string by specifying a start and end index.\n",
    "   >> example of string slicing in next cell\n",
    "   "
   ]
  },
  {
   "cell_type": "code",
   "execution_count": 1,
   "id": "372244f7-e91f-400b-b5b9-32563ec01246",
   "metadata": {},
   "outputs": [
    {
     "name": "stdout",
     "output_type": "stream",
     "text": [
      "Hello\n"
     ]
    }
   ],
   "source": [
    "# example\n",
    "text = \"Hello, World!\"\n",
    "print(text[0:5]) \n"
   ]
  },
  {
   "cell_type": "code",
   "execution_count": 2,
   "id": "135f09b2-0b67-489c-bc72-4d8c232da9bb",
   "metadata": {},
   "outputs": [
    {
     "name": "stdout",
     "output_type": "stream",
     "text": [
      "World\n"
     ]
    }
   ],
   "source": [
    "text = \"Hello, World!\"\n",
    "print(text[-6:-1]) \n"
   ]
  },
  {
   "cell_type": "code",
   "execution_count": 3,
   "id": "88326c83-dbd6-401a-a547-643715805feb",
   "metadata": {},
   "outputs": [
    {
     "name": "stdout",
     "output_type": "stream",
     "text": [
      "fed\n"
     ]
    }
   ],
   "source": [
    "text = \"abcdefg\"\n",
    "print(text[5:2:-1])  \n",
    "\n"
   ]
  },
  {
   "cell_type": "markdown",
   "id": "57648a5a-37b0-4ad5-b6a8-5c89503da362",
   "metadata": {},
   "source": [
    "2. Explain the key features of lists in python.\n",
    ">> Lists in Python are versatile and widely used data structures.\n",
    ">> The key features of lists are\n",
    "    Oreder, Mutable, Dynamic , heterogeneous, slicing, indexed,Comprehensions and many mare.\n",
    ">> example in next"
   ]
  },
  {
   "cell_type": "code",
   "execution_count": 4,
   "id": "74f06975-01be-4651-ba4c-a678e298dbff",
   "metadata": {},
   "outputs": [
    {
     "name": "stdout",
     "output_type": "stream",
     "text": [
      "['apple', 'banana', 'cherry']\n"
     ]
    }
   ],
   "source": [
    "# example ordered \n",
    "fruits = ['apple', 'banana', 'cherry']\n",
    "print(fruits) \n"
   ]
  },
  {
   "cell_type": "code",
   "execution_count": 5,
   "id": "3f385032-a392-4f57-ade9-c7ea568c7c13",
   "metadata": {},
   "outputs": [
    {
     "name": "stdout",
     "output_type": "stream",
     "text": [
      "['apple', 'blueberry', 'cherry']\n"
     ]
    }
   ],
   "source": [
    "# example mutable\n",
    "fruits = ['apple', 'banana', 'cherry']\n",
    "fruits[1] = 'blueberry'\n",
    "print(fruits)  \n"
   ]
  },
  {
   "cell_type": "code",
   "execution_count": 6,
   "id": "bc0551b9-bce7-4490-807c-be57fcc68391",
   "metadata": {},
   "outputs": [
    {
     "name": "stdout",
     "output_type": "stream",
     "text": [
      "['apple', 'banana', 'cherry']\n",
      "['apple', 'cherry']\n"
     ]
    }
   ],
   "source": [
    "# example Dynamic\n",
    "fruits = ['apple', 'banana']\n",
    "fruits.append('cherry')\n",
    "print(fruits)  \n",
    "fruits.remove('banana')\n",
    "print(fruits) \n"
   ]
  },
  {
   "cell_type": "markdown",
   "id": "cadb8062-cebe-4502-84fe-0e65bcd26974",
   "metadata": {},
   "source": [
    "3. Describe how to access, modify and delete elements in a list with examples.\n",
    "   >> A list is a versatile data structure that allows you to store and manipulate a collection of items. Here's how you can access, modify, and delete elements in a list.\n",
    "   >> example  next cell\n",
    "   "
   ]
  },
  {
   "cell_type": "code",
   "execution_count": 7,
   "id": "f8877db4-99a9-4efb-90ef-15d66e14cb6b",
   "metadata": {},
   "outputs": [
    {
     "name": "stdout",
     "output_type": "stream",
     "text": [
      "['banana', 'cherry']\n",
      "['apple', 'banana']\n",
      "['cherry', 'date', 'elderberry']\n"
     ]
    }
   ],
   "source": [
    "# Example of accesss of the list\n",
    "fruits = [\"apple\", \"banana\", \"cherry\", \"date\", \"elderberry\"]\n",
    "print(fruits[1:3]) \n",
    "print(fruits[:2])  \n",
    "print(fruits[2:])   \n"
   ]
  },
  {
   "cell_type": "code",
   "execution_count": 8,
   "id": "a8ec1394-7c0a-4991-a39f-5b44b5ca3821",
   "metadata": {},
   "outputs": [
    {
     "name": "stdout",
     "output_type": "stream",
     "text": [
      "['apple', 'blueberry', 'cherry']\n"
     ]
    }
   ],
   "source": [
    "# Example of modify of the list\n",
    "fruits = [\"apple\", \"banana\", \"cherry\"]\n",
    "fruits[1] = \"blueberry\"\n",
    "print(fruits)  \n"
   ]
  },
  {
   "cell_type": "code",
   "execution_count": 9,
   "id": "292d7427-dd41-41da-845e-18bdf376b024",
   "metadata": {},
   "outputs": [
    {
     "name": "stdout",
     "output_type": "stream",
     "text": [
      "['apple', 'cherry']\n"
     ]
    }
   ],
   "source": [
    "# Example of deleting of the list\n",
    "fruits = [\"apple\", \"banana\", \"cherry\"]\n",
    "del fruits[1]\n",
    "print(fruits)  \n"
   ]
  },
  {
   "cell_type": "markdown",
   "id": "a4385b5c-e437-4e55-9215-848f581581e5",
   "metadata": {},
   "source": [
    "4. Compare and contrast tuples and lists  withs examples.\n",
    "   >> Tuples and lists are both sequence data types in Python, but they have different properties and use cases.\n",
    "   >> Lists are mutable, flexible, and have more methods for manipulation, making them suitable for dynamic collections.\n",
    "   >> Tuples are immutable, faster, and more memory efficient, making them suitable for fixed collections that should not change.\n",
    "   >>  Examples "
   ]
  },
  {
   "cell_type": "code",
   "execution_count": 10,
   "id": "001c4991-3fd9-4aff-9f18-3d0d78e54a5a",
   "metadata": {},
   "outputs": [
    {
     "name": "stdout",
     "output_type": "stream",
     "text": [
      "2\n",
      "2\n"
     ]
    }
   ],
   "source": [
    "# similarites \n",
    "my_list = [1, 2, 3]\n",
    "my_tuple = (1, 2, 3)\n",
    "print(my_list[1])  \n",
    "print(my_tuple[1]) \n"
   ]
  },
  {
   "cell_type": "code",
   "execution_count": 11,
   "id": "ba0e93d1-3f8f-471b-a58e-e18409e2ebef",
   "metadata": {},
   "outputs": [
    {
     "name": "stdout",
     "output_type": "stream",
     "text": [
      "[1, 2, 3, 4]\n",
      "1\n",
      "2\n"
     ]
    }
   ],
   "source": [
    "#Differences\n",
    "my_list = [1, 2, 3]\n",
    "my_list.append(4)\n",
    "print(my_list) \n",
    "\n",
    "my_tuple = (1, 2, 3)\n",
    "print(my_tuple.count(2)) \n",
    "print(my_tuple.index(3))  \n"
   ]
  },
  {
   "cell_type": "markdown",
   "id": "8a743f43-ac83-413a-8b8b-37d36725347d",
   "metadata": {},
   "source": [
    "5. Describe the key features of sets and provide example of their use.\n",
    ">> A set is a built-in data type in Python that is an unordered collection of unique elements. Sets are useful for operations that involve unique items and mathematical set operations like unions, intersections, and differences.\n",
    ">> Unordered Collection:\n",
    "Sets do not maintain any particular order of elements. The order of elements in a set is not guaranteed to be consistent.\n",
    ">> Unique Elements:\n",
    "Sets automatically ensure that there are no duplicate elements. If duplicate values are added, only one instance of each value will be retained.\n",
    ">> Mutable:\n",
    "Sets are mutable, meaning you can add or remove elements after the set has been created.\n",
    ">> Dynamic Size:\n",
    "Sets can grow and shrink in size as elements are added or removed.\n",
    ">> No Indexing or Slicing:\n",
    "Since sets are unordered, they do not support indexing, slicing, or other sequence-like behavior.\n",
    ">> example"
   ]
  },
  {
   "cell_type": "code",
   "execution_count": 12,
   "id": "6dd9ee1c-bb83-4a92-b2b0-bcf260bd76ea",
   "metadata": {},
   "outputs": [
    {
     "name": "stdout",
     "output_type": "stream",
     "text": [
      "{'apple', 'cherry', 'banana'}\n",
      "set()\n"
     ]
    }
   ],
   "source": [
    "#Creating a Set\n",
    "fruits = {\"apple\", \"banana\", \"cherry\"}\n",
    "print(fruits) \n",
    "\n",
    "# Creating an empty set\n",
    "empty_set = set()\n",
    "print(empty_set)  \n"
   ]
  },
  {
   "cell_type": "code",
   "execution_count": 14,
   "id": "285ccee2-4dde-4026-a433-7fafed7247dc",
   "metadata": {},
   "outputs": [
    {
     "name": "stdout",
     "output_type": "stream",
     "text": [
      "{'apple', 'cherry', 'banana'}\n"
     ]
    }
   ],
   "source": [
    "# Adding a duplicate element (will not be added)\n",
    "fruits = {\"apple\", \"banana\"}\n",
    "fruits.add(\"cherry\")\n",
    "print(fruits)  \n"
   ]
  },
  {
   "cell_type": "code",
   "execution_count": 15,
   "id": "2ca779de-8f6a-46f3-b4b6-852205d1ea03",
   "metadata": {},
   "outputs": [
    {
     "name": "stdout",
     "output_type": "stream",
     "text": [
      "{'banana', 'cherry'}\n"
     ]
    }
   ],
   "source": [
    "set1 = {\"apple\", \"banana\", \"cherry\"}\n",
    "set2 = {\"banana\", \"cherry\", \"date\"}\n",
    "intersection_set = set1.intersection(set2)\n",
    "print(intersection_set) \n"
   ]
  },
  {
   "cell_type": "markdown",
   "id": "b7493ce5-b460-4b59-8431-6d5356597ece",
   "metadata": {},
   "source": [
    "6. Discuss the use cases of tuples and sets in python programming.\n",
    "   >> tuples and sets are two different types of collections that serve specific purposes.\n",
    "   >> Tuples are used for fixed collections, returning multiple values from functions, immutable data structures, and dictionary keys.\n",
    "   >> Sets are used for ensuring uniqueness, performing set operations, fast membership testing, removing duplicates, and efficiently storing large datasets."
   ]
  },
  {
   "cell_type": "markdown",
   "id": "91d35de1-c12e-4081-b525-75fb3c2511d7",
   "metadata": {},
   "source": [
    "7. Describe how to add , modify and delete items in a dictionary with examples.\n",
    ">>  dictionaries are mutable collections of key-value pairs. You can easily add, modify, and delete items in a dictionary.\n",
    ">> example "
   ]
  },
  {
   "cell_type": "code",
   "execution_count": 1,
   "id": "3b1360c6-37e9-4460-84da-16126d07ce8f",
   "metadata": {},
   "outputs": [
    {
     "name": "stdout",
     "output_type": "stream",
     "text": [
      "{'name': 'Alice', 'age': 25, 'city': 'New York'}\n"
     ]
    }
   ],
   "source": [
    "#Adding Items\n",
    "# Create an empty dictionary\n",
    "my_dict = {}\n",
    "\n",
    "# Add items to the dictionary\n",
    "my_dict['name'] = 'Alice'\n",
    "my_dict['age'] = 25\n",
    "my_dict['city'] = 'New York'\n",
    "\n",
    "print(my_dict)\n",
    "\n"
   ]
  },
  {
   "cell_type": "code",
   "execution_count": 2,
   "id": "f3b54b49-61dd-46d1-a8d5-43f603d67788",
   "metadata": {},
   "outputs": [
    {
     "name": "stdout",
     "output_type": "stream",
     "text": [
      "{'name': 'Alice', 'age': 26, 'city': 'San Francisco'}\n"
     ]
    }
   ],
   "source": [
    "#Modifying Items\n",
    "my_dict = {'name': 'Alice', 'age': 25, 'city': 'New York'}\n",
    "\n",
    "# Modify the age\n",
    "my_dict['age'] = 26\n",
    "\n",
    "# Modify the city\n",
    "my_dict['city'] = 'San Francisco'\n",
    "\n",
    "print(my_dict)\n",
    "\n",
    "\n"
   ]
  },
  {
   "cell_type": "code",
   "execution_count": 3,
   "id": "5ece55c6-8ce9-417c-9b9b-e6e51b401ba9",
   "metadata": {},
   "outputs": [
    {
     "name": "stdout",
     "output_type": "stream",
     "text": [
      "{'name': 'Alice', 'city': 'San Francisco'}\n"
     ]
    }
   ],
   "source": [
    "#Deleting Items\n",
    "# Existing dictionary\n",
    "my_dict = {'name': 'Alice', 'age': 26, 'city': 'San Francisco'}\n",
    "\n",
    "# Delete the age\n",
    "del my_dict['age']\n",
    "\n",
    "print(my_dict)\n",
    "\n"
   ]
  },
  {
   "cell_type": "markdown",
   "id": "b574e5fb-1ce7-4fb6-b2df-3eb387068975",
   "metadata": {},
   "source": [
    "7.Discuss the importance of dictionary keys being immutables and provide examples. \n",
    ">>In Python, dictionary keys must be immutable. This means that keys can be of types like strings, numbers, or tuples, but not of types like lists or other dictionaries. The immutability of dictionary keys is crucial for several reasons.\n",
    ">>Hashability:\n",
    "Dictionaries use a hash table to store key-value pairs. For an object to be used as a key in a dictionary, it must be hashable, meaning it has a fixed hash value during its lifetime. Immutable objects like strings, numbers, and tuples have consistent hash values.\n",
    ">>Consistency and Reliability:\n",
    "If keys were mutable, their hash values could change, leading to inconsistencies in locating the corresponding values. This would make dictionaries unreliable and could cause difficult-to-debug errors.\n",
    ">>Performance:\n",
    "Immutable keys ensure that the dictionary's internal data structure (hash table) remains efficient for operations like lookups, insertions, and deletions. Mutable keys would complicate these operations, potentially degrading performance.\n",
    ">>Example"
   ]
  },
  {
   "cell_type": "code",
   "execution_count": 5,
   "id": "79639cae-65a4-4092-ac55-345e87fe5a14",
   "metadata": {},
   "outputs": [
    {
     "name": "stdout",
     "output_type": "stream",
     "text": [
      "Alice\n"
     ]
    }
   ],
   "source": [
    "#Strings:\n",
    "my_dict = {'name': 'Alice', 'age': 25}\n",
    "print(my_dict['name'])  \n"
   ]
  },
  {
   "cell_type": "code",
   "execution_count": 4,
   "id": "aeeea474-fd8d-488a-b7b3-056e403b58b1",
   "metadata": {},
   "outputs": [
    {
     "name": "stdout",
     "output_type": "stream",
     "text": [
      "tuple_key\n"
     ]
    }
   ],
   "source": [
    "#Tuples:\n",
    "my_dict = {(1, 2): 'tuple_key', (3, 4): 'another_tuple_key'}\n",
    "print(my_dict[(1, 2)]) \n"
   ]
  },
  {
   "cell_type": "code",
   "execution_count": 6,
   "id": "9766446b-4f6a-43ae-a4cd-3a69d1fe710f",
   "metadata": {},
   "outputs": [
    {
     "name": "stdout",
     "output_type": "stream",
     "text": [
      "29.99\n"
     ]
    }
   ],
   "source": [
    "#Numeric Keys:\n",
    "product_prices = {\n",
    "    1001: 29.99,\n",
    "    1002: 39.99,\n",
    "    1003: 49.99\n",
    "}\n",
    "print(product_prices[1001]) \n"
   ]
  },
  {
   "cell_type": "code",
   "execution_count": null,
   "id": "ca2c1e8b-0b1d-4504-a21b-daee6c23176d",
   "metadata": {},
   "outputs": [],
   "source": []
  }
 ],
 "metadata": {
  "kernelspec": {
   "display_name": "Python 3 (ipykernel)",
   "language": "python",
   "name": "python3"
  },
  "language_info": {
   "codemirror_mode": {
    "name": "ipython",
    "version": 3
   },
   "file_extension": ".py",
   "mimetype": "text/x-python",
   "name": "python",
   "nbconvert_exporter": "python",
   "pygments_lexer": "ipython3",
   "version": "3.11.7"
  }
 },
 "nbformat": 4,
 "nbformat_minor": 5
}
